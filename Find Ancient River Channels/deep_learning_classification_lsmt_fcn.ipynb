{
 "cells": [
  {
   "cell_type": "markdown",
   "metadata": {},
   "source": [
    "# Deep learning classification using a LTSM FCN"
   ]
  },
  {
   "cell_type": "markdown",
   "metadata": {},
   "source": [
    "This  notebook achieves a 95.1% score on the public data set https://www.xstarter.xyz/challenge-details/gamma-log-facies-identification"
   ]
  },
  {
   "cell_type": "markdown",
   "metadata": {},
   "source": [
    "## Importing packages"
   ]
  },
  {
   "cell_type": "code",
   "execution_count": null,
   "metadata": {
    "colab": {},
    "colab_type": "code",
    "id": "y1k3Fdz_wP86"
   },
   "outputs": [],
   "source": [
    "import pandas as pd\n",
    "import numpy as np \n",
    "%matplotlib inline\n",
    "from sklearn.metrics import confusion_matrix\n",
    "from sklearn.utils import class_weight\n",
    "from sklearn.metrics import balanced_accuracy_score, accuracy_score,classification_report\n",
    "from sklearn.model_selection import train_test_split"
   ]
  },
  {
   "cell_type": "code",
   "execution_count": null,
   "metadata": {
    "colab": {
     "base_uri": "https://localhost:8080/",
     "height": 79
    },
    "colab_type": "code",
    "executionInfo": {
     "elapsed": 27968,
     "status": "ok",
     "timestamp": 1575810577718,
     "user": {
      "displayName": "Bruned Vianney",
      "photoUrl": "",
      "userId": "02732651322776154294"
     },
     "user_tz": -60
    },
    "id": "u8Rs8ftkwP9A",
    "outputId": "829e517e-be74-49be-d23a-aaf5c4552b34"
   },
   "outputs": [],
   "source": [
    "from keras.preprocessing import sequence\n",
    "import tensorflow as tf\n",
    "from keras import backend as K\n",
    "from keras.layers import Conv1D, BatchNormalization, GlobalAveragePooling1D, Permute, Dropout, Flatten\n",
    "from keras.layers import Input, Dense, LSTM, CuDNNLSTM, concatenate, Activation, GRU, SimpleRNN\n",
    "from keras.models import Model\n",
    "from keras.wrappers.scikit_learn import KerasClassifier\n",
    "from keras.optimizers import Adam\n",
    "from keras.models import load_model\n",
    "from keras.callbacks import ModelCheckpoint, EarlyStopping\n"
   ]
  },
  {
   "cell_type": "code",
   "execution_count": null,
   "metadata": {
    "colab": {
     "base_uri": "https://localhost:8080/",
     "height": 188
    },
    "colab_type": "code",
    "executionInfo": {
     "elapsed": 29784,
     "status": "ok",
     "timestamp": 1575810579620,
     "user": {
      "displayName": "Bruned Vianney",
      "photoUrl": "",
      "userId": "02732651322776154294"
     },
     "user_tz": -60
    },
    "id": "zjMK6E9swP9H",
    "outputId": "e9270c85-6ef0-4a71-cfca-5b8c88991b13"
   },
   "outputs": [],
   "source": [
    "K.tensorflow_backend._get_available_gpus()"
   ]
  },
  {
   "cell_type": "code",
   "execution_count": null,
   "metadata": {
    "colab": {
     "base_uri": "https://localhost:8080/",
     "height": 121
    },
    "colab_type": "code",
    "executionInfo": {
     "elapsed": 26620,
     "status": "ok",
     "timestamp": 1575810576354,
     "user": {
      "displayName": "Bruned Vianney",
      "photoUrl": "",
      "userId": "02732651322776154294"
     },
     "user_tz": -60
    },
    "id": "-6YdOWYSwlhg",
    "outputId": "35a44155-6519-499f-8039-966d0dd191a2"
   },
   "outputs": [],
   "source": [
    "from google.colab import drive\n",
    "drive.mount('/content/drive')"
   ]
  },
  {
   "cell_type": "markdown",
   "metadata": {},
   "source": [
    "## LSTM FCN"
   ]
  },
  {
   "cell_type": "markdown",
   "metadata": {},
   "source": [
    "IThe code comes from https://github.com/titu1994/LSTM-FCN, which is an implementation of the paper \"LSTM Fully Convolutional Networks for Time Series Classification\" (https://ieeexplore.ieee.org/document/8141873)"
   ]
  },
  {
   "cell_type": "code",
   "execution_count": null,
   "metadata": {
    "colab": {},
    "colab_type": "code",
    "id": "82Qe8KYswP9K"
   },
   "outputs": [],
   "source": [
    "def generate_lstmfcn(MAX_SEQUENCE_LENGTH, NB_CLASS, NUM_CELLS=8):\n",
    "\n",
    "    ip = Input(shape=(1, MAX_SEQUENCE_LENGTH))\n",
    "\n",
    "    x = LSTM(NUM_CELLS)(ip)\n",
    "    x = Dropout(0.2)(x)\n",
    "\n",
    "    y = Permute((2, 1))(ip)\n",
    "    y = Conv1D(128, 8, padding='same', kernel_initializer='he_uniform')(y)\n",
    "    y = BatchNormalization()(y)\n",
    "    y = Activation('relu')(y)\n",
    "\n",
    "    y = Conv1D(256, 5, padding='same', kernel_initializer='he_uniform')(y)\n",
    "    y = BatchNormalization()(y)\n",
    "    y = Activation('relu')(y)\n",
    "\n",
    "    y = Conv1D(128, 3, padding='same', kernel_initializer='he_uniform')(y)\n",
    "    y = BatchNormalization()(y)\n",
    "    y = Activation('relu')(y)\n",
    "\n",
    "    y = GlobalAveragePooling1D()(y)\n",
    "\n",
    "    x = concatenate([x, y])\n",
    "\n",
    "    out = Dense(NB_CLASS, activation='softmax')(x)\n",
    "\n",
    "    model = Model(ip, out)\n",
    "\n",
    "    model.summary()\n",
    "\n",
    "    # add load model code here to fine-tune\n",
    "\n",
    "    return model"
   ]
  },
  {
   "cell_type": "markdown",
   "metadata": {},
   "source": [
    "## Importing dataset"
   ]
  },
  {
   "cell_type": "code",
   "execution_count": null,
   "metadata": {
    "colab": {},
    "colab_type": "code",
    "id": "Nvcm9cKNwP9M"
   },
   "outputs": [],
   "source": [
    "data = pd.read_csv('/content/drive/My Drive/Colab Notebooks/train_lofi_rowid_Nov13.csv')"
   ]
  },
  {
   "cell_type": "markdown",
   "metadata": {},
   "source": [
    "We define a slicing windows and we are going to train the ltsm_fcn network on the sub sequences. "
   ]
  },
  {
   "cell_type": "code",
   "execution_count": null,
   "metadata": {
    "colab": {},
    "colab_type": "code",
    "id": "b-2q1jM6wP9N"
   },
   "outputs": [],
   "source": [
    "windows = 30"
   ]
  },
  {
   "cell_type": "markdown",
   "metadata": {},
   "source": [
    "We define the subsquences, because the dataset is quite large we drop a row over two. "
   ]
  },
  {
   "cell_type": "code",
   "execution_count": null,
   "metadata": {
    "colab": {},
    "colab_type": "code",
    "id": "dDewR09lwP9P"
   },
   "outputs": [],
   "source": [
    "seq_list = [data.loc[i:(i+windows*2),'GR'].values for i in range(0,3500000,2)   ]"
   ]
  },
  {
   "cell_type": "code",
   "execution_count": null,
   "metadata": {
    "colab": {},
    "colab_type": "code",
    "id": "Jd2MyYqPwP9R"
   },
   "outputs": [],
   "source": [
    "y_list = [data.loc[i+windows,'label'] for i in range(0,3500000,2)   ]"
   ]
  },
  {
   "cell_type": "markdown",
   "metadata": {},
   "source": [
    "The dataset is unbalanced so we use a class weight"
   ]
  },
  {
   "cell_type": "code",
   "execution_count": null,
   "metadata": {
    "colab": {},
    "colab_type": "code",
    "id": "Qkqo3R61052R"
   },
   "outputs": [],
   "source": [
    "class_weight = class_weight.compute_class_weight('balanced'\n",
    "                                               ,np.unique(y_list)\n",
    "                                               ,y_list)"
   ]
  },
  {
   "cell_type": "code",
   "execution_count": null,
   "metadata": {
    "colab": {
     "base_uri": "https://localhost:8080/",
     "height": 910
    },
    "colab_type": "code",
    "executionInfo": {
     "elapsed": 291501,
     "status": "ok",
     "timestamp": 1575810841432,
     "user": {
      "displayName": "Bruned Vianney",
      "photoUrl": "",
      "userId": "02732651322776154294"
     },
     "user_tz": -60
    },
    "id": "LUkoqPuzwP9U",
    "outputId": "11c0ab3a-046a-4aac-b11e-93b2cfe2b0a6"
   },
   "outputs": [],
   "source": [
    "model = generate_lstmfcn(60, 5, NUM_CELLS=128)"
   ]
  },
  {
   "cell_type": "code",
   "execution_count": null,
   "metadata": {
    "colab": {
     "base_uri": "https://localhost:8080/",
     "height": 104
    },
    "colab_type": "code",
    "executionInfo": {
     "elapsed": 291486,
     "status": "ok",
     "timestamp": 1575810841433,
     "user": {
      "displayName": "Bruned Vianney",
      "photoUrl": "",
      "userId": "02732651322776154294"
     },
     "user_tz": -60
    },
    "id": "fpBDNWp_wP9W",
    "outputId": "b13cd709-62fd-43a2-8a0c-a12e0597a897"
   },
   "outputs": [],
   "source": [
    "model.compile(loss='categorical_crossentropy', optimizer='adam', metrics=['accuracy'])"
   ]
  },
  {
   "cell_type": "code",
   "execution_count": null,
   "metadata": {
    "colab": {},
    "colab_type": "code",
    "id": "6zeE_7xFwP9X"
   },
   "outputs": [],
   "source": [
    "seq_len = 60\n",
    "final_seq=sequence.pad_sequences(seq_list, maxlen=seq_len, padding='post', dtype='float', truncating='post')"
   ]
  },
  {
   "cell_type": "code",
   "execution_count": null,
   "metadata": {
    "colab": {},
    "colab_type": "code",
    "id": "iQsumvK3wP9Z"
   },
   "outputs": [],
   "source": [
    "final_seq = np.array(final_seq)"
   ]
  },
  {
   "cell_type": "markdown",
   "metadata": {
    "colab": {},
    "colab_type": "code",
    "id": "HPqqZ4GrwP9b"
   },
   "source": [
    "### Splitting train and validation data set"
   ]
  },
  {
   "cell_type": "code",
   "execution_count": null,
   "metadata": {
    "colab": {},
    "colab_type": "code",
    "id": "1KLxAh8kUnbO"
   },
   "outputs": [],
   "source": [
    "seq_train, seq_val, y_train, y_val = train_test_split(final_seq, pd.get_dummies(np.array(y_list)), test_size=0.2, random_state=42)\n"
   ]
  },
  {
   "cell_type": "code",
   "execution_count": null,
   "metadata": {
    "colab": {},
    "colab_type": "code",
    "id": "wJ9lyV8EUs6c"
   },
   "outputs": [],
   "source": [
    "seq_train =seq_train.reshape((seq_train.shape[0],1,seq_len))\n",
    "seq_test =seq_test.reshape((seq_test.shape[0],1,seq_len))\n"
   ]
  },
  {
   "cell_type": "markdown",
   "metadata": {},
   "source": [
    "An early stopping strategy is used in order to avoid overfitting."
   ]
  },
  {
   "cell_type": "code",
   "execution_count": null,
   "metadata": {
    "colab": {},
    "colab_type": "code",
    "id": "cEwdqa7zU2oN"
   },
   "outputs": [],
   "source": [
    "es = EarlyStopping(monitor='val_loss', mode='min', verbose=2, patience=10)"
   ]
  },
  {
   "cell_type": "code",
   "execution_count": null,
   "metadata": {
    "colab": {
     "base_uri": "https://localhost:8080/",
     "height": 843
    },
    "colab_type": "code",
    "executionInfo": {
     "elapsed": 2854752,
     "status": "ok",
     "timestamp": 1575815016361,
     "user": {
      "displayName": "Bruned Vianney",
      "photoUrl": "",
      "userId": "02732651322776154294"
     },
     "user_tz": -60
    },
    "id": "UhlNegQHwP9c",
    "outputId": "817f7f6a-3dc1-437f-fed8-7987cdb65b72"
   },
   "outputs": [],
   "source": [
    "model.fit(seq_train,y_train,epochs=20,validation_data=(seq_val,y_val),batch_size=126,callbacks=[es],class_weight =class_weight,verbose=2)"
   ]
  },
  {
   "cell_type": "markdown",
   "metadata": {
    "colab": {},
    "colab_type": "code",
    "id": "3s8hQQVswP9e"
   },
   "source": [
    "## Testing the model "
   ]
  },
  {
   "cell_type": "markdown",
   "metadata": {},
   "source": [
    "We test the model on the last pat of the dataset"
   ]
  },
  {
   "cell_type": "code",
   "execution_count": null,
   "metadata": {
    "colab": {},
    "colab_type": "code",
    "id": "yLMnvJakwP9h"
   },
   "outputs": [],
   "source": [
    "seq_list_test = [data.loc[i:(i+windows*2),'GR'].values for i in range(3600000,3800000,5)   ]"
   ]
  },
  {
   "cell_type": "code",
   "execution_count": null,
   "metadata": {
    "colab": {},
    "colab_type": "code",
    "id": "TuUBodczwP9j"
   },
   "outputs": [],
   "source": [
    "y_list_test = [data.loc[i+windows,'label'] for i in range(3600000,3800000,5)   ]"
   ]
  },
  {
   "cell_type": "code",
   "execution_count": null,
   "metadata": {
    "colab": {},
    "colab_type": "code",
    "id": "tXngp_nBwP9l"
   },
   "outputs": [],
   "source": [
    "final_seq_test=sequence.pad_sequences(seq_list_test, maxlen=seq_len, padding='post', dtype='float', truncating='post')"
   ]
  },
  {
   "cell_type": "code",
   "execution_count": null,
   "metadata": {
    "colab": {},
    "colab_type": "code",
    "id": "79jurHFcwP9o"
   },
   "outputs": [],
   "source": [
    "y_pred = model.predict(np.array([final_seq_test]).reshape((len(final_seq_test),1,60)))"
   ]
  },
  {
   "cell_type": "code",
   "execution_count": null,
   "metadata": {
    "colab": {},
    "colab_type": "code",
    "id": "RPE7Qf09wP9s"
   },
   "outputs": [],
   "source": [
    "y_pred_label = np.argmax(y_pred,axis=1)"
   ]
  },
  {
   "cell_type": "code",
   "execution_count": null,
   "metadata": {
    "colab": {
     "base_uri": "https://localhost:8080/",
     "height": 101
    },
    "colab_type": "code",
    "executionInfo": {
     "elapsed": 2138,
     "status": "ok",
     "timestamp": 1575815198965,
     "user": {
      "displayName": "Bruned Vianney",
      "photoUrl": "",
      "userId": "02732651322776154294"
     },
     "user_tz": -60
    },
    "id": "R6JO6u4rwP9v",
    "outputId": "35cbaa8d-5448-4a90-a76d-d147161d8bcb"
   },
   "outputs": [],
   "source": [
    "confusion_matrix(y_list_test,y_pred_label)"
   ]
  },
  {
   "cell_type": "code",
   "execution_count": null,
   "metadata": {
    "colab": {
     "base_uri": "https://localhost:8080/",
     "height": 34
    },
    "colab_type": "code",
    "executionInfo": {
     "elapsed": 1178,
     "status": "ok",
     "timestamp": 1575815200996,
     "user": {
      "displayName": "Bruned Vianney",
      "photoUrl": "",
      "userId": "02732651322776154294"
     },
     "user_tz": -60
    },
    "id": "rx_MXWO9wP9w",
    "outputId": "7624cbab-970f-4195-c6e5-3623ffa0d1af"
   },
   "outputs": [],
   "source": [
    "balanced_accuracy_score(y_list_test,y_pred_label)"
   ]
  },
  {
   "cell_type": "code",
   "execution_count": null,
   "metadata": {
    "colab": {
     "base_uri": "https://localhost:8080/",
     "height": 34
    },
    "colab_type": "code",
    "executionInfo": {
     "elapsed": 1342,
     "status": "ok",
     "timestamp": 1575815205030,
     "user": {
      "displayName": "Bruned Vianney",
      "photoUrl": "",
      "userId": "02732651322776154294"
     },
     "user_tz": -60
    },
    "id": "w7qWW-rKwP9y",
    "outputId": "09363737-f7e7-4de2-bc64-8fe87771762c"
   },
   "outputs": [],
   "source": [
    "accuracy_score(y_list_test,y_pred_label)"
   ]
  },
  {
   "cell_type": "markdown",
   "metadata": {},
   "source": [
    "## Predict on the real test set"
   ]
  },
  {
   "cell_type": "code",
   "execution_count": null,
   "metadata": {
    "colab": {},
    "colab_type": "code",
    "id": "mVu64PM4wP9z"
   },
   "outputs": [],
   "source": [
    "testDF = pd.read_csv('/content/drive/My Drive/Colab Notebooks/test_lofi_rowid_Nov13.csv')"
   ]
  },
  {
   "cell_type": "code",
   "execution_count": null,
   "metadata": {
    "colab": {},
    "colab_type": "code",
    "id": "SD6JktdbwP90"
   },
   "outputs": [],
   "source": [
    "seq_list_test = [testDF.loc[i:(i+windows*2),'GR'].values for i in range(len(testDF)-windows*2)   ]"
   ]
  },
  {
   "cell_type": "code",
   "execution_count": null,
   "metadata": {
    "colab": {},
    "colab_type": "code",
    "id": "dLX1C2ZWwP92"
   },
   "outputs": [],
   "source": [
    "final_seq_final =sequence.pad_sequences(seq_list_test, maxlen=seq_len, padding='post', dtype='float', truncating='post')"
   ]
  },
  {
   "cell_type": "code",
   "execution_count": null,
   "metadata": {
    "colab": {},
    "colab_type": "code",
    "id": "6Eq1TDx3wP94"
   },
   "outputs": [],
   "source": [
    "y_pred = model.predict(np.array([final_seq_final]).reshape((len(final_seq_final),1,60)))"
   ]
  },
  {
   "cell_type": "code",
   "execution_count": null,
   "metadata": {
    "colab": {},
    "colab_type": "code",
    "id": "5iUPdLNhwP96"
   },
   "outputs": [],
   "source": [
    "y_pred_final = np.argmax(y_pred,axis=1)"
   ]
  },
  {
   "cell_type": "code",
   "execution_count": null,
   "metadata": {
    "colab": {
     "base_uri": "https://localhost:8080/",
     "height": 34
    },
    "colab_type": "code",
    "executionInfo": {
     "elapsed": 93918,
     "status": "ok",
     "timestamp": 1575815306618,
     "user": {
      "displayName": "Bruned Vianney",
      "photoUrl": "",
      "userId": "02732651322776154294"
     },
     "user_tz": -60
    },
    "id": "_Ai-dd_bwP97",
    "outputId": "7ff6483f-f58c-498a-84a1-71e4eb6629ad"
   },
   "outputs": [],
   "source": [
    "y_pred_final.shape"
   ]
  },
  {
   "cell_type": "code",
   "execution_count": null,
   "metadata": {
    "colab": {},
    "colab_type": "code",
    "id": "QEwUJTqKwP98"
   },
   "outputs": [],
   "source": [
    "testDF['label']=0"
   ]
  },
  {
   "cell_type": "code",
   "execution_count": null,
   "metadata": {
    "colab": {},
    "colab_type": "code",
    "id": "95ynrvpRwP9-"
   },
   "outputs": [],
   "source": [
    "testDF.loc[windows:len(testDF)-windows-1,'label'] = y_pred_final"
   ]
  },
  {
   "cell_type": "code",
   "execution_count": null,
   "metadata": {
    "colab": {},
    "colab_type": "code",
    "id": "INzOkiURwP9_"
   },
   "outputs": [],
   "source": [
    "testDF[[\"row_id\",\"well_id\",\"label\"]].to_csv(\"/content/drive/My Drive/Colab Notebooks/submission_lstm_fcn_5.csv\",index =False)"
   ]
  }
 ],
 "metadata": {
  "accelerator": "GPU",
  "colab": {
   "collapsed_sections": [],
   "name": "deep_learning_classification_lsmt_fcn.ipynb",
   "provenance": []
  },
  "kernelspec": {
   "display_name": "Python 3",
   "language": "python",
   "name": "python3"
  },
  "language_info": {
   "codemirror_mode": {
    "name": "ipython",
    "version": 3
   },
   "file_extension": ".py",
   "mimetype": "text/x-python",
   "name": "python",
   "nbconvert_exporter": "python",
   "pygments_lexer": "ipython3",
   "version": "3.7.3"
  }
 },
 "nbformat": 4,
 "nbformat_minor": 1
}
